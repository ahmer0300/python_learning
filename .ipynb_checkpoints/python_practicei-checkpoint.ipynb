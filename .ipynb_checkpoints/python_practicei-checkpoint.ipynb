{
 "cells": [
  {
   "cell_type": "markdown",
   "id": "62d42451-d7ab-4840-befa-3653995a52d1",
   "metadata": {},
   "source": [
    "# FIRST DAY OF PYTHON\n"
   ]
  },
  {
   "cell_type": "code",
   "execution_count": 1,
   "id": "54194645-0776-4191-88f2-0e31eae3a958",
   "metadata": {},
   "outputs": [
    {
     "name": "stdout",
     "output_type": "stream",
     "text": [
      "helloo world\n"
     ]
    }
   ],
   "source": [
    "print(\"helloo world\")"
   ]
  },
  {
   "cell_type": "code",
   "execution_count": 15,
   "id": "f4f08c78-bf99-4e10-ba01-1d9d945c2406",
   "metadata": {},
   "outputs": [],
   "source": [
    "def first(n):\n",
    "    print(n)\n",
    "\n"
   ]
  },
  {
   "cell_type": "code",
   "execution_count": 16,
   "id": "4704ad68-b3de-49c7-b224-f7b3d4b60aaf",
   "metadata": {},
   "outputs": [
    {
     "name": "stdout",
     "output_type": "stream",
     "text": [
      "55\n"
     ]
    }
   ],
   "source": [
    "first(55)"
   ]
  },
  {
   "cell_type": "code",
   "execution_count": 17,
   "id": "f093785a-a094-4074-af35-0821cd58a4c1",
   "metadata": {},
   "outputs": [
    {
     "name": "stdout",
     "output_type": "stream",
     "text": [
      "lemon\n"
     ]
    }
   ],
   "source": [
    "first(\"lemon\")"
   ]
  },
  {
   "cell_type": "code",
   "execution_count": 18,
   "id": "5e03adc7-1096-4586-b143-49cd690080b6",
   "metadata": {},
   "outputs": [
    {
     "ename": "NameError",
     "evalue": "name 'python' is not defined",
     "output_type": "error",
     "traceback": [
      "\u001b[1;31m---------------------------------------------------------------------------\u001b[0m",
      "\u001b[1;31mNameError\u001b[0m                                 Traceback (most recent call last)",
      "Cell \u001b[1;32mIn[18], line 1\u001b[0m\n\u001b[1;32m----> 1\u001b[0m python\n",
      "\u001b[1;31mNameError\u001b[0m: name 'python' is not defined"
     ]
    }
   ],
   "source": [
    "python"
   ]
  },
  {
   "cell_type": "code",
   "execution_count": 19,
   "id": "38300c34-4f4a-452e-b447-a46025ad340c",
   "metadata": {},
   "outputs": [],
   "source": [
    "import os\n"
   ]
  },
  {
   "cell_type": "code",
   "execution_count": 20,
   "id": "886ec0a6-5c56-4bad-b868-ff5b52aa3071",
   "metadata": {},
   "outputs": [
    {
     "data": {
      "text/plain": [
       "'D:\\\\python_learning'"
      ]
     },
     "execution_count": 20,
     "metadata": {},
     "output_type": "execute_result"
    }
   ],
   "source": [
    "os.getcwd()"
   ]
  },
  {
   "cell_type": "code",
   "execution_count": 21,
   "id": "2cff707c-a5da-4a19-a907-a8bde2937146",
   "metadata": {},
   "outputs": [
    {
     "name": "stdout",
     "output_type": "stream",
     "text": [
      " Volume in drive D has no label.\n",
      " Volume Serial Number is 3EAD-560A\n",
      "\n",
      " Directory of D:\\python_learning\n",
      "\n",
      "11/03/2025  07:56 am    <DIR>          .\n",
      "11/03/2025  06:42 am    <DIR>          .ipynb_checkpoints\n",
      "11/03/2025  06:54 am             2,526 python_demo.ipynb\n",
      "11/03/2025  07:56 am             3,127 python_practicei.ipynb\n",
      "               2 File(s)          5,653 bytes\n",
      "               2 Dir(s)  73,053,089,792 bytes free\n"
     ]
    }
   ],
   "source": [
    "ls"
   ]
  },
  {
   "cell_type": "code",
   "execution_count": 22,
   "id": "56bb913e-b595-4a06-aed6-96a5e6f8766b",
   "metadata": {},
   "outputs": [],
   "source": [
    "x=10"
   ]
  },
  {
   "cell_type": "code",
   "execution_count": 23,
   "id": "b267e76c-41d4-4f36-bd8a-aac11d665df6",
   "metadata": {},
   "outputs": [
    {
     "data": {
      "text/plain": [
       "10"
      ]
     },
     "execution_count": 23,
     "metadata": {},
     "output_type": "execute_result"
    }
   ],
   "source": [
    "x"
   ]
  },
  {
   "cell_type": "code",
   "execution_count": 24,
   "id": "033ae312-b425-4cdb-81ff-cd1213f34a21",
   "metadata": {},
   "outputs": [
    {
     "data": {
      "text/plain": [
       "10"
      ]
     },
     "execution_count": 24,
     "metadata": {},
     "output_type": "execute_result"
    }
   ],
   "source": [
    "x"
   ]
  },
  {
   "cell_type": "code",
   "execution_count": null,
   "id": "83ec6bf7-2415-40df-a3a2-77d269e7e47f",
   "metadata": {},
   "outputs": [],
   "source": []
  }
 ],
 "metadata": {
  "kernelspec": {
   "display_name": "Python 3 (ipykernel)",
   "language": "python",
   "name": "python3"
  },
  "language_info": {
   "codemirror_mode": {
    "name": "ipython",
    "version": 3
   },
   "file_extension": ".py",
   "mimetype": "text/x-python",
   "name": "python",
   "nbconvert_exporter": "python",
   "pygments_lexer": "ipython3",
   "version": "3.12.7"
  }
 },
 "nbformat": 4,
 "nbformat_minor": 5
}
