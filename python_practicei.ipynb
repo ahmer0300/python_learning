{
 "cells": [
  {
   "cell_type": "markdown",
   "id": "62d42451-d7ab-4840-befa-3653995a52d1",
   "metadata": {},
   "source": [
    "# FIRST DAY OF PYTHON\n"
   ]
  },
  {
   "cell_type": "code",
   "execution_count": 1,
   "id": "54194645-0776-4191-88f2-0e31eae3a958",
   "metadata": {},
   "outputs": [
    {
     "name": "stdout",
     "output_type": "stream",
     "text": [
      "helloo world\n"
     ]
    }
   ],
   "source": [
    "print(\"helloo world\")"
   ]
  },
  {
   "cell_type": "code",
   "execution_count": 15,
   "id": "f4f08c78-bf99-4e10-ba01-1d9d945c2406",
   "metadata": {},
   "outputs": [],
   "source": [
    "def first(n):\n",
    "    print(n)\n",
    "\n"
   ]
  },
  {
   "cell_type": "code",
   "execution_count": 16,
   "id": "4704ad68-b3de-49c7-b224-f7b3d4b60aaf",
   "metadata": {},
   "outputs": [
    {
     "name": "stdout",
     "output_type": "stream",
     "text": [
      "55\n"
     ]
    }
   ],
   "source": [
    "first(55)"
   ]
  },
  {
   "cell_type": "code",
   "execution_count": 17,
   "id": "f093785a-a094-4074-af35-0821cd58a4c1",
   "metadata": {},
   "outputs": [
    {
     "name": "stdout",
     "output_type": "stream",
     "text": [
      "lemon\n"
     ]
    }
   ],
   "source": [
    "first(\"lemon\")"
   ]
  },
  {
   "cell_type": "code",
   "execution_count": 18,
   "id": "5e03adc7-1096-4586-b143-49cd690080b6",
   "metadata": {},
   "outputs": [
    {
     "ename": "NameError",
     "evalue": "name 'python' is not defined",
     "output_type": "error",
     "traceback": [
      "\u001b[1;31m---------------------------------------------------------------------------\u001b[0m",
      "\u001b[1;31mNameError\u001b[0m                                 Traceback (most recent call last)",
      "Cell \u001b[1;32mIn[18], line 1\u001b[0m\n\u001b[1;32m----> 1\u001b[0m python\n",
      "\u001b[1;31mNameError\u001b[0m: name 'python' is not defined"
     ]
    }
   ],
   "source": [
    "python"
   ]
  },
  {
   "cell_type": "code",
   "execution_count": 19,
   "id": "38300c34-4f4a-452e-b447-a46025ad340c",
   "metadata": {},
   "outputs": [],
   "source": [
    "import os\n"
   ]
  },
  {
   "cell_type": "code",
   "execution_count": 20,
   "id": "886ec0a6-5c56-4bad-b868-ff5b52aa3071",
   "metadata": {},
   "outputs": [
    {
     "data": {
      "text/plain": [
       "'D:\\\\python_learning'"
      ]
     },
     "execution_count": 20,
     "metadata": {},
     "output_type": "execute_result"
    }
   ],
   "source": [
    "os.getcwd()"
   ]
  },
  {
   "cell_type": "code",
   "execution_count": 21,
   "id": "2cff707c-a5da-4a19-a907-a8bde2937146",
   "metadata": {},
   "outputs": [
    {
     "name": "stdout",
     "output_type": "stream",
     "text": [
      " Volume in drive D has no label.\n",
      " Volume Serial Number is 3EAD-560A\n",
      "\n",
      " Directory of D:\\python_learning\n",
      "\n",
      "11/03/2025  07:56 am    <DIR>          .\n",
      "11/03/2025  06:42 am    <DIR>          .ipynb_checkpoints\n",
      "11/03/2025  06:54 am             2,526 python_demo.ipynb\n",
      "11/03/2025  07:56 am             3,127 python_practicei.ipynb\n",
      "               2 File(s)          5,653 bytes\n",
      "               2 Dir(s)  73,053,089,792 bytes free\n"
     ]
    }
   ],
   "source": [
    "ls"
   ]
  },
  {
   "cell_type": "code",
   "execution_count": 22,
   "id": "56bb913e-b595-4a06-aed6-96a5e6f8766b",
   "metadata": {},
   "outputs": [],
   "source": [
    "x=10"
   ]
  },
  {
   "cell_type": "code",
   "execution_count": 23,
   "id": "b267e76c-41d4-4f36-bd8a-aac11d665df6",
   "metadata": {},
   "outputs": [
    {
     "data": {
      "text/plain": [
       "10"
      ]
     },
     "execution_count": 23,
     "metadata": {},
     "output_type": "execute_result"
    }
   ],
   "source": [
    "x"
   ]
  },
  {
   "cell_type": "code",
   "execution_count": 24,
   "id": "033ae312-b425-4cdb-81ff-cd1213f34a21",
   "metadata": {},
   "outputs": [
    {
     "data": {
      "text/plain": [
       "10"
      ]
     },
     "execution_count": 24,
     "metadata": {},
     "output_type": "execute_result"
    }
   ],
   "source": [
    "x"
   ]
  },
  {
   "cell_type": "code",
   "execution_count": 1,
   "id": "83ec6bf7-2415-40df-a3a2-77d269e7e47f",
   "metadata": {},
   "outputs": [],
   "source": [
    "def second():\n",
    "    print(88)\n",
    "\n",
    "\n"
   ]
  },
  {
   "cell_type": "code",
   "execution_count": 2,
   "id": "3d656c89-cbb2-429d-9ee3-aadb7bbb2dd1",
   "metadata": {},
   "outputs": [
    {
     "data": {
      "text/plain": [
       "<function __main__.second()>"
      ]
     },
     "execution_count": 2,
     "metadata": {},
     "output_type": "execute_result"
    }
   ],
   "source": [
    "second"
   ]
  },
  {
   "cell_type": "code",
   "execution_count": 3,
   "id": "4ceadfd1-d4dd-4619-9fea-8fb7cdd59c67",
   "metadata": {},
   "outputs": [
    {
     "name": "stdout",
     "output_type": "stream",
     "text": [
      "88\n"
     ]
    }
   ],
   "source": [
    "second()"
   ]
  },
  {
   "cell_type": "code",
   "execution_count": 4,
   "id": "04ffbc09-4caf-42d9-9090-6e88ef3628c6",
   "metadata": {},
   "outputs": [
    {
     "ename": "NameError",
     "evalue": "name 'jhjj' is not defined",
     "output_type": "error",
     "traceback": [
      "\u001b[1;31m---------------------------------------------------------------------------\u001b[0m",
      "\u001b[1;31mNameError\u001b[0m                                 Traceback (most recent call last)",
      "Cell \u001b[1;32mIn[4], line 1\u001b[0m\n\u001b[1;32m----> 1\u001b[0m jhjj\n",
      "\u001b[1;31mNameError\u001b[0m: name 'jhjj' is not defined"
     ]
    }
   ],
   "source": [
    "jhjj"
   ]
  },
  {
   "cell_type": "code",
   "execution_count": 5,
   "id": "82fa22de-6c11-41a0-8859-d28f84bf63df",
   "metadata": {},
   "outputs": [],
   "source": [
    "username = \"ahmer\""
   ]
  },
  {
   "cell_type": "code",
   "execution_count": 6,
   "id": "5c1d6aab-aacc-4a07-a11a-c85000846e53",
   "metadata": {},
   "outputs": [
    {
     "data": {
      "text/plain": [
       "'ahmer'"
      ]
     },
     "execution_count": 6,
     "metadata": {},
     "output_type": "execute_result"
    }
   ],
   "source": [
    " username"
   ]
  },
  {
   "cell_type": "code",
   "execution_count": 7,
   "id": "92cdde6c-7b9b-492c-913a-5b3797223e68",
   "metadata": {},
   "outputs": [],
   "source": [
    "username=\"mirza\" "
   ]
  },
  {
   "cell_type": "code",
   "execution_count": 8,
   "id": "2dd010c4-ce5f-45a7-b2d3-b8c6db7f6f94",
   "metadata": {},
   "outputs": [
    {
     "data": {
      "text/plain": [
       "'mirza'"
      ]
     },
     "execution_count": 8,
     "metadata": {},
     "output_type": "execute_result"
    }
   ],
   "source": [
    "username"
   ]
  },
  {
   "cell_type": "code",
   "execution_count": 9,
   "id": "1f0a1c7f-1792-465c-9d37-85acbbbb3362",
   "metadata": {},
   "outputs": [
    {
     "name": "stdout",
     "output_type": "stream",
     "text": [
      "mirza\n"
     ]
    }
   ],
   "source": [
    "print(username)"
   ]
  },
  {
   "cell_type": "code",
   "execution_count": 10,
   "id": "3292d47f-5dc2-4f76-a5ac-335594c61a63",
   "metadata": {},
   "outputs": [],
   "source": [
    "x=10\n",
    "y=x\n"
   ]
  },
  {
   "cell_type": "code",
   "execution_count": 11,
   "id": "68dc0f81-4589-47cc-b008-66e62366bc7c",
   "metadata": {},
   "outputs": [
    {
     "data": {
      "text/plain": [
       "10"
      ]
     },
     "execution_count": 11,
     "metadata": {},
     "output_type": "execute_result"
    }
   ],
   "source": [
    "x\n",
    "y"
   ]
  },
  {
   "cell_type": "code",
   "execution_count": 12,
   "id": "f6c40d03-f310-406a-b67f-a09d815fdac9",
   "metadata": {},
   "outputs": [
    {
     "data": {
      "text/plain": [
       "10"
      ]
     },
     "execution_count": 12,
     "metadata": {},
     "output_type": "execute_result"
    }
   ],
   "source": [
    "y"
   ]
  },
  {
   "cell_type": "code",
   "execution_count": 13,
   "id": "dbc91717-9ac5-44f3-8ce0-aea6dbfde7ab",
   "metadata": {},
   "outputs": [
    {
     "data": {
      "text/plain": [
       "20"
      ]
     },
     "execution_count": 13,
     "metadata": {},
     "output_type": "execute_result"
    }
   ],
   "source": [
    "x=20\n",
    "x"
   ]
  },
  {
   "cell_type": "code",
   "execution_count": 14,
   "id": "678dde01-c8d2-4db7-98aa-17132a4e174c",
   "metadata": {},
   "outputs": [
    {
     "data": {
      "text/plain": [
       "10"
      ]
     },
     "execution_count": 14,
     "metadata": {},
     "output_type": "execute_result"
    }
   ],
   "source": [
    "y"
   ]
  },
  {
   "cell_type": "code",
   "execution_count": 18,
   "id": "783e965b-02c7-4983-8ed5-72980815ae06",
   "metadata": {},
   "outputs": [
    {
     "name": "stdout",
     "output_type": "stream",
     "text": [
      "5\n",
      "5\n",
      "30\n",
      "5\n",
      "40\n"
     ]
    }
   ],
   "source": [
    "x=5\n",
    "y=x\n",
    "print(x)\n",
    "print(y)\n",
    "x=30\n",
    "print(x)\n",
    "print(y)\n",
    "y=40\n",
    "print(y)"
   ]
  },
  {
   "cell_type": "code",
   "execution_count": null,
   "id": "42267b3b-2edc-4b16-bdef-b181ee2debc1",
   "metadata": {},
   "outputs": [],
   "source": []
  }
 ],
 "metadata": {
  "kernelspec": {
   "display_name": "Python 3 (ipykernel)",
   "language": "python",
   "name": "python3"
  },
  "language_info": {
   "codemirror_mode": {
    "name": "ipython",
    "version": 3
   },
   "file_extension": ".py",
   "mimetype": "text/x-python",
   "name": "python",
   "nbconvert_exporter": "python",
   "pygments_lexer": "ipython3",
   "version": "3.12.7"
  }
 },
 "nbformat": 4,
 "nbformat_minor": 5
}
