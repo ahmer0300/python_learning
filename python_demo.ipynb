{
 "cells": [
  {
   "cell_type": "code",
   "execution_count": 5,
   "id": "a37cfe80-de71-4968-a88b-e5bcb385ab7f",
   "metadata": {},
   "outputs": [
    {
     "ename": "ModuleNotFoundError",
     "evalue": "No module named 'python_practicei'",
     "output_type": "error",
     "traceback": [
      "\u001b[1;31m---------------------------------------------------------------------------\u001b[0m",
      "\u001b[1;31mModuleNotFoundError\u001b[0m                       Traceback (most recent call last)",
      "Cell \u001b[1;32mIn[5], line 1\u001b[0m\n\u001b[1;32m----> 1\u001b[0m \u001b[38;5;28;01mfrom\u001b[39;00m \u001b[38;5;21;01mpython_practicei\u001b[39;00m \u001b[38;5;28;01mimport\u001b[39;00m first\n",
      "\u001b[1;31mModuleNotFoundError\u001b[0m: No module named 'python_practicei'"
     ]
    }
   ],
   "source": [
    "from python_practicei import first"
   ]
  },
  {
   "cell_type": "code",
   "execution_count": null,
   "id": "b14edc42-6327-4ebc-96a7-d4d0458fe9ff",
   "metadata": {},
   "outputs": [],
   "source": []
  },
  {
   "cell_type": "code",
   "execution_count": 6,
   "id": "9f90adbf-75b6-47a5-ba37-9d90ea644d92",
   "metadata": {},
   "outputs": [
    {
     "ename": "ModuleNotFoundError",
     "evalue": "No module named 'python_practicei'",
     "output_type": "error",
     "traceback": [
      "\u001b[1;31m---------------------------------------------------------------------------\u001b[0m",
      "\u001b[1;31mModuleNotFoundError\u001b[0m                       Traceback (most recent call last)",
      "Cell \u001b[1;32mIn[6], line 1\u001b[0m\n\u001b[1;32m----> 1\u001b[0m \u001b[38;5;28;01mfrom\u001b[39;00m \u001b[38;5;21;01mpython_practicei\u001b[39;00m \u001b[38;5;28;01mimport\u001b[39;00m first\n",
      "\u001b[1;31mModuleNotFoundError\u001b[0m: No module named 'python_practicei'"
     ]
    }
   ],
   "source": [
    "from python_practicei import first"
   ]
  },
  {
   "cell_type": "code",
   "execution_count": null,
   "id": "2bd8292e-0f02-4bf6-93ef-b1672398d32a",
   "metadata": {},
   "outputs": [],
   "source": []
  }
 ],
 "metadata": {
  "kernelspec": {
   "display_name": "Python 3 (ipykernel)",
   "language": "python",
   "name": "python3"
  },
  "language_info": {
   "codemirror_mode": {
    "name": "ipython",
    "version": 3
   },
   "file_extension": ".py",
   "mimetype": "text/x-python",
   "name": "python",
   "nbconvert_exporter": "python",
   "pygments_lexer": "ipython3",
   "version": "3.12.7"
  }
 },
 "nbformat": 4,
 "nbformat_minor": 5
}
